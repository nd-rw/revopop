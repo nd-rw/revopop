{
 "cells": [
  {
   "cell_type": "code",
   "execution_count": 3,
   "metadata": {},
   "outputs": [],
   "source": [
    "from gazpacho import get, Soup"
   ]
  },
  {
   "cell_type": "code",
   "execution_count": 13,
   "metadata": {},
   "outputs": [],
   "source": [
    "url = 'https://revofitness.com.au/'\n",
    "html = get(url)\n",
    "soup = Soup(html)\n",
    "clubs = soup.find('div', {'class': 'club'}, strict=True)"
   ]
  },
  {
   "cell_type": "code",
   "execution_count": 17,
   "metadata": {},
   "outputs": [
    {
     "name": "stdout",
     "output_type": "stream",
     "text": [
      "<div class=\"club\">\n",
      "<span class=\"red-line last\"></span>\n",
      "  <span>\n",
      "    <h4>Victoria Park</h4>\n",
      "    <h5>LIVE MEMBER COUNT = <span class=\"the-number\">30</span></h5>\n",
      "    <h6><span class=\"left-aligned\"></span>CLUB FLOOR SPACE: 1320SQ/M</h6>\n",
      "  </span>\n",
      "</div>\n"
     ]
    }
   ],
   "source": [
    "all_clubs = []\n",
    "for club in clubs:\n",
    "    if club.find('h4').text == 'Victoria Park':\n",
    "        print(club)\n",
    "        vic_park = club"
   ]
  },
  {
   "cell_type": "code",
   "execution_count": 21,
   "metadata": {},
   "outputs": [
    {
     "data": {
      "text/plain": [
       "'30'"
      ]
     },
     "execution_count": 21,
     "metadata": {},
     "output_type": "execute_result"
    }
   ],
   "source": [
    "vic_park.find('span', {'class': 'the-number'}).text"
   ]
  },
  {
   "cell_type": "code",
   "execution_count": 36,
   "metadata": {},
   "outputs": [
    {
     "data": {
      "text/plain": [
       "'CLUB FLOOR SPACE: 1320SQ/M'"
      ]
     },
     "execution_count": 36,
     "metadata": {},
     "output_type": "execute_result"
    }
   ],
   "source": [
    "floor_space = vic_park.find('h6').text\n",
    "floor_space"
   ]
  },
  {
   "cell_type": "code",
   "execution_count": 32,
   "metadata": {},
   "outputs": [],
   "source": [
    "import re"
   ]
  },
  {
   "cell_type": "code",
   "execution_count": 33,
   "metadata": {},
   "outputs": [],
   "source": [
    "nums_only = re.compile('[^0-9.]')"
   ]
  },
  {
   "cell_type": "code",
   "execution_count": 35,
   "metadata": {},
   "outputs": [
    {
     "data": {
      "text/plain": [
       "'1320'"
      ]
     },
     "execution_count": 35,
     "metadata": {},
     "output_type": "execute_result"
    }
   ],
   "source": [
    "nums_only.sub('', floor_space)"
   ]
  },
  {
   "cell_type": "code",
   "execution_count": 71,
   "metadata": {},
   "outputs": [],
   "source": [
    "import re\n",
    "from gazpacho import get, Soup\n",
    "\n",
    "def get_gym_info(gym_name):\n",
    "    url = 'https://revofitness.com.au/'\n",
    "    html = get(url)\n",
    "    soup = Soup(html)\n",
    "    clubs = soup.find('div', {'class': 'club'}, strict=True)\n",
    "    nums_only = re.compile('[^0-9.]')\n",
    "    str_return = True\n",
    "    \n",
    "    for club in clubs:\n",
    "        if club.find('h4').text == gym_name:\n",
    "            #print(club)\n",
    "            specified_gym = club\n",
    "    \n",
    "    num_people = int(specified_gym.find('span', {'class': 'the-number'}).text)\n",
    "    floor_space = int(nums_only.sub('', specified_gym.find('h6').text))\n",
    "    ppl_per_metre = round(floor_space / num_people, 2)\n",
    "    if str_return == True:\n",
    "        gym_status_str = f'There are currently {num_people} people in the gym, with approx. {ppl_per_metre}m² of space each.'\n",
    "        return return_str\n",
    "    else:\n",
    "        return {'gym_name': gym_name, 'num_people': num_people, 'floor_space': floor_space, 'ppl_per_metre': ppl_per_metre}"
   ]
  },
  {
   "cell_type": "code",
   "execution_count": 72,
   "metadata": {},
   "outputs": [
    {
     "data": {
      "text/plain": [
       "'There are currently 28 people in the gym, with approx. 47.14m² of space each.'"
      ]
     },
     "execution_count": 72,
     "metadata": {},
     "output_type": "execute_result"
    }
   ],
   "source": [
    "get_gym_info('Victoria Park')"
   ]
  },
  {
   "cell_type": "code",
   "execution_count": null,
   "metadata": {},
   "outputs": [],
   "source": []
  }
 ],
 "metadata": {
  "kernelspec": {
   "display_name": "Python 3",
   "language": "python",
   "name": "python3"
  },
  "language_info": {
   "codemirror_mode": {
    "name": "ipython",
    "version": 3
   },
   "file_extension": ".py",
   "mimetype": "text/x-python",
   "name": "python",
   "nbconvert_exporter": "python",
   "pygments_lexer": "ipython3",
   "version": "3.6.9"
  }
 },
 "nbformat": 4,
 "nbformat_minor": 2
}
